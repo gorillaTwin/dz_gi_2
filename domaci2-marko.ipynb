{
 "cells": [
  {
   "cell_type": "code",
   "execution_count": 2,
   "id": "0147e374",
   "metadata": {},
   "outputs": [
    {
     "name": "stdout",
     "output_type": "stream",
     "text": [
      "Inspect the flag field\n",
      "1187\n",
      "C0HVYACXX120402:7:1207:5722:57044\t1187\t#20\t9483249\t27\t76M\t#20\t9483382\t209\tTTTTCAAACAGTATCTATGCCTGCCAAATGTGAACATATAAAAAAAAACCAGAATGTGCCATTCTGATTTAAACTG\tarray('B', [28, 28, 27, 29, 31, 30, 31, 31, 29, 31, 35, 30, 29, 31, 34, 30, 29, 23, 41, 32, 20, 30, 29, 34, 34, 29, 30, 31, 30, 30, 30, 33, 33, 26, 39, 12, 25, 19, 32, 30, 35, 28, 35, 33, 23, 33, 35, 36, 30, 38, 33, 41, 34, 35, 31, 33, 23, 30, 30, 36, 27, 32, 29, 34, 35, 41, 33, 31, 33, 29, 32, 32, 31, 31, 31, 34])\t[('XA', 'GL000217.1,-110754,76M,1;'), ('BD', 'NNNNNNNNNNNNNNNNNNNNNNNNNNNNNNNNNNNNNNNNNNNNNNNNNNNNNNNNNNNNNNNNNNNNNNNNNNNN'), ('MD', '76'), ('RG', '1'), ('BI', 'NNNNNNNNNNNNNNNNNNNNNNNNNNNNNNNNNNNNNNNNNNNNNNNNNNNNNNNNNNNNNNNNNNNNNNNNNNNN'), ('NM', 0), ('MQ', 27), ('AS', 76), ('XS', 71)]\n"
     ]
    }
   ],
   "source": [
    "import pysam\n",
    "pysam.index(\"merged-tumor.bam\")\n",
    "samfile = pysam.AlignmentFile(\"merged-tumor.bam\", \"rb\")\n",
    "\n",
    "#first_read=samfile.fetch()[0] #first\n",
    "l=samfile.get_index_statistics()\n",
    "i=0\n",
    "j=0\n",
    "suma=0\n",
    "for read in samfile.fetch():\n",
    "    if read and i==0:\n",
    "        first_read=read #moze u str da se prebaci\n",
    "        flag=read.flag\n",
    "    i=i+1\n",
    "    if read.mapping_quality==0:\n",
    "        j+=1\n",
    "    suma+=read.mapping_quality\n",
    "   \n",
    "print(\"Inspect the flag field\")\n",
    "print(flag)\n",
    "print(first_read) #ovo je jedan Alignment segment\n",
    "\n",
    "m=j #number of reads with zero quality\n",
    "n=i #2921629 2 million reads\n",
    "\n",
    "average=suma/n\n",
    "\n",
    "average_without_zeros=suma/(n-m)\n",
    "\n",
    "samfile.close()\n"
   ]
  },
  {
   "cell_type": "code",
   "execution_count": null,
   "id": "5d2106d7",
   "metadata": {},
   "outputs": [],
   "source": []
  }
 ],
 "metadata": {
  "kernelspec": {
   "display_name": "Python 3",
   "language": "python",
   "name": "python3"
  },
  "language_info": {
   "codemirror_mode": {
    "name": "ipython",
    "version": 3
   },
   "file_extension": ".py",
   "mimetype": "text/x-python",
   "name": "python",
   "nbconvert_exporter": "python",
   "pygments_lexer": "ipython3",
   "version": "3.8.8"
  }
 },
 "nbformat": 4,
 "nbformat_minor": 5
}
